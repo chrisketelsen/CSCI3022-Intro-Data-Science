{
 "cells": [
  {
   "cell_type": "markdown",
   "metadata": {},
   "source": [
    "# Lecture 2: Summary Statistics and Boulder Weather Data \n",
    "***\n",
    "\n",
    "In this notebook we'll: \n",
    "- Use Pandas to compute summary statistics on Boulder weather data \n",
    "- Figure out how summary statistics like mean and standard deviation change under transformations of the data\n",
    "\n",
    "\n",
    "First, as always, we'll load Numpy and Pandas using their common aliases, np and pd. "
   ]
  },
  {
   "cell_type": "code",
   "execution_count": 1,
   "metadata": {
    "collapsed": true
   },
   "outputs": [],
   "source": [
    "import numpy as np \n",
    "import pandas as pd"
   ]
  },
  {
   "cell_type": "markdown",
   "metadata": {},
   "source": [
    "The data we'll explore in this notebook concerns temperatures and other weather observations in Boulder County over the month of July 2017.  The data was obtained from the National Oceanic and Atmospheric Administration's [Climate.gov](https://www.climate.gov/) website.  You can find and download loads of climate-related data from NOAA [here](https://www.climate.gov/maps-data/datasets).   \n",
    "\n",
    "The data is stored in a .csv file called clean_boulder_weather.csv.  If you've updated your local course repository then you can read the data into pandas from the given local path.  If you have not (e.g. if you're using Azure) then you can load the data into pandas by passing in the url to the raw data file on GitHub.  "
   ]
  },
  {
   "cell_type": "code",
   "execution_count": 2,
   "metadata": {
    "collapsed": false
   },
   "outputs": [],
   "source": [
    "# Two different paths to the data \n",
    "local_path = 'data/clean_boulder_weather.csv'\n",
    "web_path   = 'https://raw.githubusercontent.com/chrisketelsen/csci3022/master/inclass-notebooks/data/clean_boulder_weather.csv'\n",
    "\n",
    "# Select the path that works for you \n",
    "file_path = web_path \n",
    "\n",
    "# Load the data into a DataFrame \n",
    "df = pd.read_csv(file_path)"
   ]
  },
  {
   "cell_type": "markdown",
   "metadata": {},
   "source": [
    "Take a look at the first 50 or so rows of the DataFrame using the head( ) method. "
   ]
  },
  {
   "cell_type": "code",
   "execution_count": 3,
   "metadata": {
    "collapsed": false
   },
   "outputs": [
    {
     "data": {
      "text/html": [
       "<div>\n",
       "<table border=\"1\" class=\"dataframe\">\n",
       "  <thead>\n",
       "    <tr style=\"text-align: right;\">\n",
       "      <th></th>\n",
       "      <th>STATION</th>\n",
       "      <th>NAME</th>\n",
       "      <th>DATE</th>\n",
       "      <th>PRCP</th>\n",
       "      <th>TMAX</th>\n",
       "      <th>TMIN</th>\n",
       "    </tr>\n",
       "  </thead>\n",
       "  <tbody>\n",
       "    <tr>\n",
       "      <th>0</th>\n",
       "      <td>USW00094075</td>\n",
       "      <td>BOULDER 14 W, CO US</td>\n",
       "      <td>2017-07-01</td>\n",
       "      <td>0.00</td>\n",
       "      <td>68.0</td>\n",
       "      <td>31.0</td>\n",
       "    </tr>\n",
       "    <tr>\n",
       "      <th>1</th>\n",
       "      <td>USW00094075</td>\n",
       "      <td>BOULDER 14 W, CO US</td>\n",
       "      <td>2017-07-02</td>\n",
       "      <td>0.00</td>\n",
       "      <td>73.0</td>\n",
       "      <td>35.0</td>\n",
       "    </tr>\n",
       "    <tr>\n",
       "      <th>2</th>\n",
       "      <td>USW00094075</td>\n",
       "      <td>BOULDER 14 W, CO US</td>\n",
       "      <td>2017-07-03</td>\n",
       "      <td>0.00</td>\n",
       "      <td>68.0</td>\n",
       "      <td>46.0</td>\n",
       "    </tr>\n",
       "    <tr>\n",
       "      <th>3</th>\n",
       "      <td>USW00094075</td>\n",
       "      <td>BOULDER 14 W, CO US</td>\n",
       "      <td>2017-07-04</td>\n",
       "      <td>0.05</td>\n",
       "      <td>68.0</td>\n",
       "      <td>43.0</td>\n",
       "    </tr>\n",
       "    <tr>\n",
       "      <th>4</th>\n",
       "      <td>USW00094075</td>\n",
       "      <td>BOULDER 14 W, CO US</td>\n",
       "      <td>2017-07-05</td>\n",
       "      <td>0.01</td>\n",
       "      <td>73.0</td>\n",
       "      <td>40.0</td>\n",
       "    </tr>\n",
       "    <tr>\n",
       "      <th>5</th>\n",
       "      <td>USW00094075</td>\n",
       "      <td>BOULDER 14 W, CO US</td>\n",
       "      <td>2017-07-06</td>\n",
       "      <td>0.00</td>\n",
       "      <td>76.0</td>\n",
       "      <td>48.0</td>\n",
       "    </tr>\n",
       "    <tr>\n",
       "      <th>6</th>\n",
       "      <td>USW00094075</td>\n",
       "      <td>BOULDER 14 W, CO US</td>\n",
       "      <td>2017-07-07</td>\n",
       "      <td>0.02</td>\n",
       "      <td>74.0</td>\n",
       "      <td>43.0</td>\n",
       "    </tr>\n",
       "    <tr>\n",
       "      <th>7</th>\n",
       "      <td>USW00094075</td>\n",
       "      <td>BOULDER 14 W, CO US</td>\n",
       "      <td>2017-07-08</td>\n",
       "      <td>0.00</td>\n",
       "      <td>65.0</td>\n",
       "      <td>44.0</td>\n",
       "    </tr>\n",
       "    <tr>\n",
       "      <th>8</th>\n",
       "      <td>USW00094075</td>\n",
       "      <td>BOULDER 14 W, CO US</td>\n",
       "      <td>2017-07-09</td>\n",
       "      <td>0.01</td>\n",
       "      <td>73.0</td>\n",
       "      <td>39.0</td>\n",
       "    </tr>\n",
       "    <tr>\n",
       "      <th>9</th>\n",
       "      <td>USW00094075</td>\n",
       "      <td>BOULDER 14 W, CO US</td>\n",
       "      <td>2017-07-10</td>\n",
       "      <td>0.01</td>\n",
       "      <td>75.0</td>\n",
       "      <td>44.0</td>\n",
       "    </tr>\n",
       "    <tr>\n",
       "      <th>10</th>\n",
       "      <td>USW00094075</td>\n",
       "      <td>BOULDER 14 W, CO US</td>\n",
       "      <td>2017-07-11</td>\n",
       "      <td>0.01</td>\n",
       "      <td>71.0</td>\n",
       "      <td>52.0</td>\n",
       "    </tr>\n",
       "    <tr>\n",
       "      <th>11</th>\n",
       "      <td>USW00094075</td>\n",
       "      <td>BOULDER 14 W, CO US</td>\n",
       "      <td>2017-07-12</td>\n",
       "      <td>0.10</td>\n",
       "      <td>54.0</td>\n",
       "      <td>43.0</td>\n",
       "    </tr>\n",
       "    <tr>\n",
       "      <th>12</th>\n",
       "      <td>USW00094075</td>\n",
       "      <td>BOULDER 14 W, CO US</td>\n",
       "      <td>2017-07-13</td>\n",
       "      <td>0.00</td>\n",
       "      <td>67.0</td>\n",
       "      <td>41.0</td>\n",
       "    </tr>\n",
       "    <tr>\n",
       "      <th>13</th>\n",
       "      <td>USW00094075</td>\n",
       "      <td>BOULDER 14 W, CO US</td>\n",
       "      <td>2017-07-14</td>\n",
       "      <td>0.00</td>\n",
       "      <td>67.0</td>\n",
       "      <td>39.0</td>\n",
       "    </tr>\n",
       "    <tr>\n",
       "      <th>14</th>\n",
       "      <td>USW00094075</td>\n",
       "      <td>BOULDER 14 W, CO US</td>\n",
       "      <td>2017-07-15</td>\n",
       "      <td>0.00</td>\n",
       "      <td>65.0</td>\n",
       "      <td>40.0</td>\n",
       "    </tr>\n",
       "    <tr>\n",
       "      <th>15</th>\n",
       "      <td>USW00094075</td>\n",
       "      <td>BOULDER 14 W, CO US</td>\n",
       "      <td>2017-07-16</td>\n",
       "      <td>0.05</td>\n",
       "      <td>68.0</td>\n",
       "      <td>38.0</td>\n",
       "    </tr>\n",
       "    <tr>\n",
       "      <th>16</th>\n",
       "      <td>USW00094075</td>\n",
       "      <td>BOULDER 14 W, CO US</td>\n",
       "      <td>2017-07-17</td>\n",
       "      <td>0.01</td>\n",
       "      <td>72.0</td>\n",
       "      <td>47.0</td>\n",
       "    </tr>\n",
       "    <tr>\n",
       "      <th>17</th>\n",
       "      <td>USW00094075</td>\n",
       "      <td>BOULDER 14 W, CO US</td>\n",
       "      <td>2017-07-18</td>\n",
       "      <td>0.00</td>\n",
       "      <td>71.0</td>\n",
       "      <td>47.0</td>\n",
       "    </tr>\n",
       "    <tr>\n",
       "      <th>18</th>\n",
       "      <td>USW00094075</td>\n",
       "      <td>BOULDER 14 W, CO US</td>\n",
       "      <td>2017-07-19</td>\n",
       "      <td>0.03</td>\n",
       "      <td>80.0</td>\n",
       "      <td>45.0</td>\n",
       "    </tr>\n",
       "    <tr>\n",
       "      <th>19</th>\n",
       "      <td>USW00094075</td>\n",
       "      <td>BOULDER 14 W, CO US</td>\n",
       "      <td>2017-07-20</td>\n",
       "      <td>0.00</td>\n",
       "      <td>74.0</td>\n",
       "      <td>46.0</td>\n",
       "    </tr>\n",
       "    <tr>\n",
       "      <th>20</th>\n",
       "      <td>USW00094075</td>\n",
       "      <td>BOULDER 14 W, CO US</td>\n",
       "      <td>2017-07-21</td>\n",
       "      <td>0.16</td>\n",
       "      <td>74.0</td>\n",
       "      <td>48.0</td>\n",
       "    </tr>\n",
       "    <tr>\n",
       "      <th>21</th>\n",
       "      <td>USW00094075</td>\n",
       "      <td>BOULDER 14 W, CO US</td>\n",
       "      <td>2017-07-22</td>\n",
       "      <td>0.11</td>\n",
       "      <td>66.0</td>\n",
       "      <td>46.0</td>\n",
       "    </tr>\n",
       "    <tr>\n",
       "      <th>22</th>\n",
       "      <td>USW00094075</td>\n",
       "      <td>BOULDER 14 W, CO US</td>\n",
       "      <td>2017-07-23</td>\n",
       "      <td>0.56</td>\n",
       "      <td>69.0</td>\n",
       "      <td>43.0</td>\n",
       "    </tr>\n",
       "    <tr>\n",
       "      <th>23</th>\n",
       "      <td>USW00094075</td>\n",
       "      <td>BOULDER 14 W, CO US</td>\n",
       "      <td>2017-07-24</td>\n",
       "      <td>0.00</td>\n",
       "      <td>72.0</td>\n",
       "      <td>45.0</td>\n",
       "    </tr>\n",
       "    <tr>\n",
       "      <th>24</th>\n",
       "      <td>USW00094075</td>\n",
       "      <td>BOULDER 14 W, CO US</td>\n",
       "      <td>2017-07-25</td>\n",
       "      <td>0.24</td>\n",
       "      <td>69.0</td>\n",
       "      <td>47.0</td>\n",
       "    </tr>\n",
       "    <tr>\n",
       "      <th>25</th>\n",
       "      <td>USW00094075</td>\n",
       "      <td>BOULDER 14 W, CO US</td>\n",
       "      <td>2017-07-26</td>\n",
       "      <td>0.28</td>\n",
       "      <td>62.0</td>\n",
       "      <td>44.0</td>\n",
       "    </tr>\n",
       "    <tr>\n",
       "      <th>26</th>\n",
       "      <td>USW00094075</td>\n",
       "      <td>BOULDER 14 W, CO US</td>\n",
       "      <td>2017-07-27</td>\n",
       "      <td>0.02</td>\n",
       "      <td>65.0</td>\n",
       "      <td>44.0</td>\n",
       "    </tr>\n",
       "    <tr>\n",
       "      <th>27</th>\n",
       "      <td>USW00094075</td>\n",
       "      <td>BOULDER 14 W, CO US</td>\n",
       "      <td>2017-07-28</td>\n",
       "      <td>0.12</td>\n",
       "      <td>69.0</td>\n",
       "      <td>45.0</td>\n",
       "    </tr>\n",
       "    <tr>\n",
       "      <th>28</th>\n",
       "      <td>USW00094075</td>\n",
       "      <td>BOULDER 14 W, CO US</td>\n",
       "      <td>2017-07-29</td>\n",
       "      <td>0.14</td>\n",
       "      <td>59.0</td>\n",
       "      <td>47.0</td>\n",
       "    </tr>\n",
       "    <tr>\n",
       "      <th>29</th>\n",
       "      <td>USW00094075</td>\n",
       "      <td>BOULDER 14 W, CO US</td>\n",
       "      <td>2017-07-30</td>\n",
       "      <td>0.48</td>\n",
       "      <td>61.0</td>\n",
       "      <td>41.0</td>\n",
       "    </tr>\n",
       "    <tr>\n",
       "      <th>30</th>\n",
       "      <td>USW00094075</td>\n",
       "      <td>BOULDER 14 W, CO US</td>\n",
       "      <td>2017-07-31</td>\n",
       "      <td>0.00</td>\n",
       "      <td>65.0</td>\n",
       "      <td>37.0</td>\n",
       "    </tr>\n",
       "    <tr>\n",
       "      <th>31</th>\n",
       "      <td>USC00053629</td>\n",
       "      <td>GROSS RESERVOIR, CO US</td>\n",
       "      <td>2017-07-01</td>\n",
       "      <td>0.00</td>\n",
       "      <td>63.0</td>\n",
       "      <td>40.0</td>\n",
       "    </tr>\n",
       "    <tr>\n",
       "      <th>32</th>\n",
       "      <td>USC00053629</td>\n",
       "      <td>GROSS RESERVOIR, CO US</td>\n",
       "      <td>2017-07-02</td>\n",
       "      <td>0.00</td>\n",
       "      <td>76.0</td>\n",
       "      <td>45.0</td>\n",
       "    </tr>\n",
       "    <tr>\n",
       "      <th>33</th>\n",
       "      <td>USC00053629</td>\n",
       "      <td>GROSS RESERVOIR, CO US</td>\n",
       "      <td>2017-07-03</td>\n",
       "      <td>0.00</td>\n",
       "      <td>83.0</td>\n",
       "      <td>50.0</td>\n",
       "    </tr>\n",
       "    <tr>\n",
       "      <th>34</th>\n",
       "      <td>USC00053629</td>\n",
       "      <td>GROSS RESERVOIR, CO US</td>\n",
       "      <td>2017-07-04</td>\n",
       "      <td>0.00</td>\n",
       "      <td>82.0</td>\n",
       "      <td>52.0</td>\n",
       "    </tr>\n",
       "    <tr>\n",
       "      <th>35</th>\n",
       "      <td>USC00053629</td>\n",
       "      <td>GROSS RESERVOIR, CO US</td>\n",
       "      <td>2017-07-05</td>\n",
       "      <td>0.05</td>\n",
       "      <td>82.0</td>\n",
       "      <td>47.0</td>\n",
       "    </tr>\n",
       "    <tr>\n",
       "      <th>36</th>\n",
       "      <td>USC00053629</td>\n",
       "      <td>GROSS RESERVOIR, CO US</td>\n",
       "      <td>2017-07-06</td>\n",
       "      <td>0.00</td>\n",
       "      <td>86.0</td>\n",
       "      <td>50.0</td>\n",
       "    </tr>\n",
       "    <tr>\n",
       "      <th>37</th>\n",
       "      <td>USC00053629</td>\n",
       "      <td>GROSS RESERVOIR, CO US</td>\n",
       "      <td>2017-07-07</td>\n",
       "      <td>0.00</td>\n",
       "      <td>86.0</td>\n",
       "      <td>50.0</td>\n",
       "    </tr>\n",
       "    <tr>\n",
       "      <th>38</th>\n",
       "      <td>USC00053629</td>\n",
       "      <td>GROSS RESERVOIR, CO US</td>\n",
       "      <td>2017-07-08</td>\n",
       "      <td>0.00</td>\n",
       "      <td>77.0</td>\n",
       "      <td>48.0</td>\n",
       "    </tr>\n",
       "    <tr>\n",
       "      <th>39</th>\n",
       "      <td>USC00053629</td>\n",
       "      <td>GROSS RESERVOIR, CO US</td>\n",
       "      <td>2017-07-09</td>\n",
       "      <td>0.03</td>\n",
       "      <td>78.0</td>\n",
       "      <td>48.0</td>\n",
       "    </tr>\n",
       "    <tr>\n",
       "      <th>40</th>\n",
       "      <td>USC00053629</td>\n",
       "      <td>GROSS RESERVOIR, CO US</td>\n",
       "      <td>2017-07-10</td>\n",
       "      <td>0.00</td>\n",
       "      <td>84.0</td>\n",
       "      <td>50.0</td>\n",
       "    </tr>\n",
       "    <tr>\n",
       "      <th>41</th>\n",
       "      <td>USC00053629</td>\n",
       "      <td>GROSS RESERVOIR, CO US</td>\n",
       "      <td>2017-07-11</td>\n",
       "      <td>0.00</td>\n",
       "      <td>82.0</td>\n",
       "      <td>55.0</td>\n",
       "    </tr>\n",
       "    <tr>\n",
       "      <th>42</th>\n",
       "      <td>USC00053629</td>\n",
       "      <td>GROSS RESERVOIR, CO US</td>\n",
       "      <td>2017-07-12</td>\n",
       "      <td>0.00</td>\n",
       "      <td>82.0</td>\n",
       "      <td>61.0</td>\n",
       "    </tr>\n",
       "    <tr>\n",
       "      <th>43</th>\n",
       "      <td>USC00053629</td>\n",
       "      <td>GROSS RESERVOIR, CO US</td>\n",
       "      <td>2017-07-13</td>\n",
       "      <td>0.07</td>\n",
       "      <td>68.0</td>\n",
       "      <td>46.0</td>\n",
       "    </tr>\n",
       "    <tr>\n",
       "      <th>44</th>\n",
       "      <td>USC00053629</td>\n",
       "      <td>GROSS RESERVOIR, CO US</td>\n",
       "      <td>2017-07-14</td>\n",
       "      <td>0.00</td>\n",
       "      <td>77.0</td>\n",
       "      <td>48.0</td>\n",
       "    </tr>\n",
       "    <tr>\n",
       "      <th>45</th>\n",
       "      <td>USC00053629</td>\n",
       "      <td>GROSS RESERVOIR, CO US</td>\n",
       "      <td>2017-07-15</td>\n",
       "      <td>0.00</td>\n",
       "      <td>78.0</td>\n",
       "      <td>52.0</td>\n",
       "    </tr>\n",
       "    <tr>\n",
       "      <th>46</th>\n",
       "      <td>USC00053629</td>\n",
       "      <td>GROSS RESERVOIR, CO US</td>\n",
       "      <td>2017-07-16</td>\n",
       "      <td>0.00</td>\n",
       "      <td>77.0</td>\n",
       "      <td>48.0</td>\n",
       "    </tr>\n",
       "    <tr>\n",
       "      <th>47</th>\n",
       "      <td>USC00053629</td>\n",
       "      <td>GROSS RESERVOIR, CO US</td>\n",
       "      <td>2017-07-17</td>\n",
       "      <td>0.00</td>\n",
       "      <td>78.0</td>\n",
       "      <td>50.0</td>\n",
       "    </tr>\n",
       "    <tr>\n",
       "      <th>48</th>\n",
       "      <td>USC00053629</td>\n",
       "      <td>GROSS RESERVOIR, CO US</td>\n",
       "      <td>2017-07-18</td>\n",
       "      <td>0.00</td>\n",
       "      <td>83.0</td>\n",
       "      <td>53.0</td>\n",
       "    </tr>\n",
       "    <tr>\n",
       "      <th>49</th>\n",
       "      <td>USC00053629</td>\n",
       "      <td>GROSS RESERVOIR, CO US</td>\n",
       "      <td>2017-07-19</td>\n",
       "      <td>0.00</td>\n",
       "      <td>83.0</td>\n",
       "      <td>54.0</td>\n",
       "    </tr>\n",
       "  </tbody>\n",
       "</table>\n",
       "</div>"
      ],
      "text/plain": [
       "        STATION                    NAME        DATE  PRCP  TMAX  TMIN\n",
       "0   USW00094075     BOULDER 14 W, CO US  2017-07-01  0.00  68.0  31.0\n",
       "1   USW00094075     BOULDER 14 W, CO US  2017-07-02  0.00  73.0  35.0\n",
       "2   USW00094075     BOULDER 14 W, CO US  2017-07-03  0.00  68.0  46.0\n",
       "3   USW00094075     BOULDER 14 W, CO US  2017-07-04  0.05  68.0  43.0\n",
       "4   USW00094075     BOULDER 14 W, CO US  2017-07-05  0.01  73.0  40.0\n",
       "5   USW00094075     BOULDER 14 W, CO US  2017-07-06  0.00  76.0  48.0\n",
       "6   USW00094075     BOULDER 14 W, CO US  2017-07-07  0.02  74.0  43.0\n",
       "7   USW00094075     BOULDER 14 W, CO US  2017-07-08  0.00  65.0  44.0\n",
       "8   USW00094075     BOULDER 14 W, CO US  2017-07-09  0.01  73.0  39.0\n",
       "9   USW00094075     BOULDER 14 W, CO US  2017-07-10  0.01  75.0  44.0\n",
       "10  USW00094075     BOULDER 14 W, CO US  2017-07-11  0.01  71.0  52.0\n",
       "11  USW00094075     BOULDER 14 W, CO US  2017-07-12  0.10  54.0  43.0\n",
       "12  USW00094075     BOULDER 14 W, CO US  2017-07-13  0.00  67.0  41.0\n",
       "13  USW00094075     BOULDER 14 W, CO US  2017-07-14  0.00  67.0  39.0\n",
       "14  USW00094075     BOULDER 14 W, CO US  2017-07-15  0.00  65.0  40.0\n",
       "15  USW00094075     BOULDER 14 W, CO US  2017-07-16  0.05  68.0  38.0\n",
       "16  USW00094075     BOULDER 14 W, CO US  2017-07-17  0.01  72.0  47.0\n",
       "17  USW00094075     BOULDER 14 W, CO US  2017-07-18  0.00  71.0  47.0\n",
       "18  USW00094075     BOULDER 14 W, CO US  2017-07-19  0.03  80.0  45.0\n",
       "19  USW00094075     BOULDER 14 W, CO US  2017-07-20  0.00  74.0  46.0\n",
       "20  USW00094075     BOULDER 14 W, CO US  2017-07-21  0.16  74.0  48.0\n",
       "21  USW00094075     BOULDER 14 W, CO US  2017-07-22  0.11  66.0  46.0\n",
       "22  USW00094075     BOULDER 14 W, CO US  2017-07-23  0.56  69.0  43.0\n",
       "23  USW00094075     BOULDER 14 W, CO US  2017-07-24  0.00  72.0  45.0\n",
       "24  USW00094075     BOULDER 14 W, CO US  2017-07-25  0.24  69.0  47.0\n",
       "25  USW00094075     BOULDER 14 W, CO US  2017-07-26  0.28  62.0  44.0\n",
       "26  USW00094075     BOULDER 14 W, CO US  2017-07-27  0.02  65.0  44.0\n",
       "27  USW00094075     BOULDER 14 W, CO US  2017-07-28  0.12  69.0  45.0\n",
       "28  USW00094075     BOULDER 14 W, CO US  2017-07-29  0.14  59.0  47.0\n",
       "29  USW00094075     BOULDER 14 W, CO US  2017-07-30  0.48  61.0  41.0\n",
       "30  USW00094075     BOULDER 14 W, CO US  2017-07-31  0.00  65.0  37.0\n",
       "31  USC00053629  GROSS RESERVOIR, CO US  2017-07-01  0.00  63.0  40.0\n",
       "32  USC00053629  GROSS RESERVOIR, CO US  2017-07-02  0.00  76.0  45.0\n",
       "33  USC00053629  GROSS RESERVOIR, CO US  2017-07-03  0.00  83.0  50.0\n",
       "34  USC00053629  GROSS RESERVOIR, CO US  2017-07-04  0.00  82.0  52.0\n",
       "35  USC00053629  GROSS RESERVOIR, CO US  2017-07-05  0.05  82.0  47.0\n",
       "36  USC00053629  GROSS RESERVOIR, CO US  2017-07-06  0.00  86.0  50.0\n",
       "37  USC00053629  GROSS RESERVOIR, CO US  2017-07-07  0.00  86.0  50.0\n",
       "38  USC00053629  GROSS RESERVOIR, CO US  2017-07-08  0.00  77.0  48.0\n",
       "39  USC00053629  GROSS RESERVOIR, CO US  2017-07-09  0.03  78.0  48.0\n",
       "40  USC00053629  GROSS RESERVOIR, CO US  2017-07-10  0.00  84.0  50.0\n",
       "41  USC00053629  GROSS RESERVOIR, CO US  2017-07-11  0.00  82.0  55.0\n",
       "42  USC00053629  GROSS RESERVOIR, CO US  2017-07-12  0.00  82.0  61.0\n",
       "43  USC00053629  GROSS RESERVOIR, CO US  2017-07-13  0.07  68.0  46.0\n",
       "44  USC00053629  GROSS RESERVOIR, CO US  2017-07-14  0.00  77.0  48.0\n",
       "45  USC00053629  GROSS RESERVOIR, CO US  2017-07-15  0.00  78.0  52.0\n",
       "46  USC00053629  GROSS RESERVOIR, CO US  2017-07-16  0.00  77.0  48.0\n",
       "47  USC00053629  GROSS RESERVOIR, CO US  2017-07-17  0.00  78.0  50.0\n",
       "48  USC00053629  GROSS RESERVOIR, CO US  2017-07-18  0.00  83.0  53.0\n",
       "49  USC00053629  GROSS RESERVOIR, CO US  2017-07-19  0.00  83.0  54.0"
      ]
     },
     "execution_count": 3,
     "metadata": {},
     "output_type": "execute_result"
    }
   ],
   "source": [
    "df.head(50)"
   ]
  },
  {
   "cell_type": "markdown",
   "metadata": {},
   "source": [
    "From this you should see that each row in the DataFrame refers to a particular weather station / date combination.  The columns of the DataFrame are as follows: \n",
    "\n",
    "- **STATION**: The unique identification code for each weather station \n",
    "- **NAME**: The location / name of the weather station \n",
    "- **DATE**: The date of the observation \n",
    "- **PRCP**: The precipitation (in inches)\n",
    "- **TMAX**: The daily maximum temperature (in Fahrenheit)\n",
    "- **TMIN**: The daily minimum temperature (in Fahrenheit)\n",
    "\n",
    "From the printed DataFrame above you can see that we actually have data from multiple weather stations.  To see how many, we can pass the **NAME** column (or the **STATION** column) into Python's set function. "
   ]
  },
  {
   "cell_type": "code",
   "execution_count": 4,
   "metadata": {
    "collapsed": false
   },
   "outputs": [
    {
     "data": {
      "text/plain": [
       "{'BOULDER 14 W, CO US',\n",
       " 'BOULDER, CO US',\n",
       " 'GROSS RESERVOIR, CO US',\n",
       " 'NIWOT, CO US',\n",
       " 'NORTHGLENN, CO US',\n",
       " 'RALSTON RESERVOIR, CO US',\n",
       " 'SUGARLOAF COLORADO, CO US'}"
      ]
     },
     "execution_count": 4,
     "metadata": {},
     "output_type": "execute_result"
    }
   ],
   "source": [
    "set(df[\"NAME\"])"
   ]
  },
  {
   "cell_type": "markdown",
   "metadata": {},
   "source": [
    "It looks like we have data from seven different weather stations.  For consistency, let's reduce the data to just the reports from the weather station in Niwot.  "
   ]
  },
  {
   "cell_type": "markdown",
   "metadata": {},
   "source": [
    "### Exercise 1\n",
    "***\n",
    "Extract the rows of the DataFrame concerned with the Niwot weather station.  Store this data in a new DataFrame called dfNiwot. "
   ]
  },
  {
   "cell_type": "code",
   "execution_count": 5,
   "metadata": {
    "collapsed": false
   },
   "outputs": [
    {
     "data": {
      "text/html": [
       "<div>\n",
       "<table border=\"1\" class=\"dataframe\">\n",
       "  <thead>\n",
       "    <tr style=\"text-align: right;\">\n",
       "      <th></th>\n",
       "      <th>STATION</th>\n",
       "      <th>NAME</th>\n",
       "      <th>DATE</th>\n",
       "      <th>PRCP</th>\n",
       "      <th>TMAX</th>\n",
       "      <th>TMIN</th>\n",
       "    </tr>\n",
       "  </thead>\n",
       "  <tbody>\n",
       "    <tr>\n",
       "      <th>93</th>\n",
       "      <td>USS0005J42S</td>\n",
       "      <td>NIWOT, CO US</td>\n",
       "      <td>2017-07-01</td>\n",
       "      <td>0.0</td>\n",
       "      <td>69.0</td>\n",
       "      <td>32.0</td>\n",
       "    </tr>\n",
       "    <tr>\n",
       "      <th>94</th>\n",
       "      <td>USS0005J42S</td>\n",
       "      <td>NIWOT, CO US</td>\n",
       "      <td>2017-07-02</td>\n",
       "      <td>0.0</td>\n",
       "      <td>73.0</td>\n",
       "      <td>37.0</td>\n",
       "    </tr>\n",
       "    <tr>\n",
       "      <th>95</th>\n",
       "      <td>USS0005J42S</td>\n",
       "      <td>NIWOT, CO US</td>\n",
       "      <td>2017-07-03</td>\n",
       "      <td>0.0</td>\n",
       "      <td>68.0</td>\n",
       "      <td>47.0</td>\n",
       "    </tr>\n",
       "    <tr>\n",
       "      <th>96</th>\n",
       "      <td>USS0005J42S</td>\n",
       "      <td>NIWOT, CO US</td>\n",
       "      <td>2017-07-04</td>\n",
       "      <td>0.1</td>\n",
       "      <td>70.0</td>\n",
       "      <td>41.0</td>\n",
       "    </tr>\n",
       "    <tr>\n",
       "      <th>97</th>\n",
       "      <td>USS0005J42S</td>\n",
       "      <td>NIWOT, CO US</td>\n",
       "      <td>2017-07-05</td>\n",
       "      <td>0.0</td>\n",
       "      <td>74.0</td>\n",
       "      <td>40.0</td>\n",
       "    </tr>\n",
       "  </tbody>\n",
       "</table>\n",
       "</div>"
      ],
      "text/plain": [
       "        STATION          NAME        DATE  PRCP  TMAX  TMIN\n",
       "93  USS0005J42S  NIWOT, CO US  2017-07-01   0.0  69.0  32.0\n",
       "94  USS0005J42S  NIWOT, CO US  2017-07-02   0.0  73.0  37.0\n",
       "95  USS0005J42S  NIWOT, CO US  2017-07-03   0.0  68.0  47.0\n",
       "96  USS0005J42S  NIWOT, CO US  2017-07-04   0.1  70.0  41.0\n",
       "97  USS0005J42S  NIWOT, CO US  2017-07-05   0.0  74.0  40.0"
      ]
     },
     "execution_count": 5,
     "metadata": {},
     "output_type": "execute_result"
    }
   ],
   "source": [
    "dfNiwot = df.loc[df[\"NAME\"] == 'NIWOT, CO US'].copy()\n",
    "dfNiwot.head() "
   ]
  },
  {
   "cell_type": "markdown",
   "metadata": {},
   "source": [
    "### Exercise 2  \n",
    "***\n",
    "\n",
    "Pandas (and Numpy) have canned functions that compute each of the summary statistics discussed in lecture.  We'll use the .mean( ) function as an example.  All of these functions can be called either on a Pandas Series (i.e. a column of a DataFrame) or on an entire DataFrame at one time.  \n",
    "\n",
    "For instance, the sample mean of the maximum daily temperature is given by "
   ]
  },
  {
   "cell_type": "code",
   "execution_count": 6,
   "metadata": {
    "collapsed": false
   },
   "outputs": [
    {
     "data": {
      "text/plain": [
       "69.83870967741936"
      ]
     },
     "execution_count": 6,
     "metadata": {},
     "output_type": "execute_result"
    }
   ],
   "source": [
    "dfNiwot[\"TMAX\"].mean()"
   ]
  },
  {
   "cell_type": "markdown",
   "metadata": {},
   "source": [
    "Let's see what happens if we call .mean( ) on the entire DataFrame. "
   ]
  },
  {
   "cell_type": "code",
   "execution_count": 7,
   "metadata": {
    "collapsed": false
   },
   "outputs": [
    {
     "data": {
      "text/plain": [
       "PRCP     0.061290\n",
       "TMAX    69.838710\n",
       "TMIN    43.548387\n",
       "dtype: float64"
      ]
     },
     "execution_count": 7,
     "metadata": {},
     "output_type": "execute_result"
    }
   ],
   "source": [
    "dfNiwot.mean()"
   ]
  },
  {
   "cell_type": "markdown",
   "metadata": {},
   "source": [
    "In this case, Pandas returned a Series with the means of all of the **numerical** data in the DataFrame. \n",
    "\n",
    "The functions for the other summary statistics are as follows: \n",
    "\n",
    "\\begin{array}{l|l}\n",
    "\\textrm{Function} & \\textrm{Statistics} \\\\\n",
    "\\hline\n",
    "\\textrm{.var()} & \\textrm{variance} \\\\\n",
    "\\textrm{.std()} & \\textrm{standard deviation} \\\\\n",
    "\\textrm{.min()} & \\textrm{minimum value} \\\\\n",
    "\\textrm{.max()} & \\textrm{maximum value} \\\\\n",
    "\\textrm{.median()} & \\textrm{value} \\\\\n",
    "\\textrm{.quantile(q)} & \\textrm{quantile, where q is the desired percentage as a decimal} \\\\\n",
    "\\end{array}\n",
    "\n",
    "Your job is to use these functions to compute the 5-number summary for the maximum daily temperature. "
   ]
  },
  {
   "cell_type": "code",
   "execution_count": 8,
   "metadata": {
    "collapsed": false
   },
   "outputs": [
    {
     "name": "stdout",
     "output_type": "stream",
     "text": [
      "5-Number Summary: 54.00    66.50    70.00    74.00    80.00\n"
     ]
    }
   ],
   "source": [
    "minval = dfNiwot[\"TMAX\"].min()\n",
    "maxval = dfNiwot[\"TMAX\"].max()\n",
    "Q1 = dfNiwot[\"TMAX\"].quantile(.25)\n",
    "Q2 = dfNiwot[\"TMAX\"].quantile(.50) # Could also do dfNiwot[\"TMAX\"].median()\n",
    "Q3 = dfNiwot[\"TMAX\"].quantile(.75)\n",
    "print(\"5-Number Summary: {:.2f}    {:.2f}    {:.2f}    {:.2f}    {:.2f}\".format(minval, Q1, Q2, Q3, maxval))"
   ]
  },
  {
   "cell_type": "markdown",
   "metadata": {},
   "source": [
    "### Exercise 3 \n",
    "***\n",
    "It turns out that Pandas has a nice function called .describe( ) that will compute all of the standard summary statistics for you.  You can apply it either to a Pandas Series or to an entire DataFrame.  \n",
    "\n",
    "Run the .describe( ) function on the **TMAX** column of your DataFrame, and check that the results agree with your computations from Exercise 2. "
   ]
  },
  {
   "cell_type": "code",
   "execution_count": 9,
   "metadata": {
    "collapsed": false
   },
   "outputs": [
    {
     "data": {
      "text/plain": [
       "count    31.000000\n",
       "mean     69.838710\n",
       "std       5.621962\n",
       "min      54.000000\n",
       "25%      66.500000\n",
       "50%      70.000000\n",
       "75%      74.000000\n",
       "max      80.000000\n",
       "Name: TMAX, dtype: float64"
      ]
     },
     "execution_count": 9,
     "metadata": {},
     "output_type": "execute_result"
    }
   ],
   "source": [
    "dfNiwot[\"TMAX\"].describe()"
   ]
  },
  {
   "cell_type": "markdown",
   "metadata": {},
   "source": [
    "### Exercise 4 \n",
    "***\n",
    "In this exercise we'll explore how the mean and the standard deviation change when we perform basic transformations on the data.  In particular, we're interested in what happens if we \n",
    "\n",
    "1. Add or subtract some value from every entry in the data set \n",
    "1. Multiply every entry in the data set by some value \n",
    "\n",
    "We know from above that the mean and standard deviation of the Niwot **TMAX** value are 69.83871 and 5.621962.  Experiment by adding and multiplying nice integer values with the **TMAX** column and then recomputing the statistics.  From your observations, can you guess how the mean and std dev change under these transformations? "
   ]
  },
  {
   "cell_type": "code",
   "execution_count": 10,
   "metadata": {
    "collapsed": false
   },
   "outputs": [
    {
     "name": "stdout",
     "output_type": "stream",
     "text": [
      "72.83870967741936\n",
      "5.621961544950591\n",
      "209.51612903225808\n",
      "16.865884634851767\n"
     ]
    }
   ],
   "source": [
    "print((dfNiwot[\"TMAX\"]+3).mean())\n",
    "print((dfNiwot[\"TMAX\"]+3).std())\n",
    "print((dfNiwot[\"TMAX\"]*3).mean())\n",
    "print((dfNiwot[\"TMAX\"]*3).std())"
   ]
  },
  {
   "cell_type": "markdown",
   "metadata": {},
   "source": [
    "See if you can prove that your guess works in general mathematically using the formulas for the two statistics: \n",
    "\n",
    "$$\n",
    "\\bar{x} = \\frac{1}{n} \\displaystyle\\sum_{k=1}^n x_k \\quad \\quad \\textrm{and} \\quad \\quad s = \\sqrt{\\frac{1}{n-1} \\sum_{k=1}^n \\left( x_k - \\bar{x}\\right)^2} \n",
    "$$\n",
    "\n",
    "**Solution**: \n",
    "\n",
    "**The Mean with Addition**: It looks like when we add a constant to each observation the constant also gets added to the mean.  We can show this in general as follows.  Let $y_k = x_k + a$ be the shifted observations.  We then have  \n",
    "\n",
    "\n",
    "$$\n",
    "\\bar{y} = \\frac{1}{n} \\sum_{k=1}^n y_k \\quad = \\quad \\frac{1}{n} \\sum_{k=1}^n (x_k + a) \\quad = \\quad \n",
    "\\frac{1}{n} \\sum_{k=1}^n x_k  + \\frac{1}{n} \\sum_{k=1}^n a \n",
    "\\quad = \\quad \\bar{x}  + \\frac{1}{n} \\cdot an \n",
    "\\quad = \\quad \\bar{x}  + a \n",
    "$$\n",
    "\n",
    "**The Std Dev with Addition**: On the other hand, it looks like the standard deviation stays the same when we add a constant to each observation.  This should make intuitive sense because the std dev is a measure of the spread of the data, and by adding a constant to each observation we're just shifting things down the number line.  Let's see if we can use the formula for std dev to confirm this mathematically. \n",
    "\n",
    "$$\n",
    "\\sqrt{\\frac{1}{n-1}\\sum_{k=1}^n \\left( y_k - \\bar{y} \\right)^2 } \\quad = \\quad \n",
    "\\sqrt{\\frac{1}{n-1}\\sum_{k=1}^n \\left[ (x_k + a) - (\\bar{x}+a) \\right]^2 } \\quad = \\quad \n",
    "\\sqrt{\\frac{1}{n-1}\\sum_{k=1}^n \\left( x_k - \\bar{x} \\right)^2 } \n",
    "$$\n",
    "\n",
    "And so we see that the standard deviation of both the $x$'s and the  $y$'s are the same. \n",
    "\n",
    "**The Mean with Multiplication**: It looks like when we multiply each observation by a constant the mean also gets multiplied by the constant.  We can show this in general as follows.  Let $z_k = b \\cdot x_k$ be the multiplied observations.  We then have  \n",
    "\n",
    "\n",
    "$$\n",
    "\\bar{z} = \\frac{1}{n} \\sum_{k=1}^n z_k \\quad = \\quad \\frac{1}{n} \\sum_{k=1}^n b \\cdot x_k  \\quad = \\quad \n",
    "b \\cdot \\frac{1}{n} \\sum_{k=1}^n x_k  \n",
    "\\quad = \\quad b\\cdot \\bar{x}  \n",
    "$$\n",
    "\n",
    "**The Std Dev with Addition**: It also looks like the std dev gets multiplied by the constant.  Let's see \n",
    "\n",
    "$$\n",
    "\\sqrt{\\frac{1}{n-1}\\sum_{k=1}^n \\left( z_k - \\bar{z} \\right)^2 } \\quad = \\quad \n",
    "\\sqrt{\\frac{1}{n-1}\\sum_{k=1}^n \\left( b\\cdot x_k - b\\cdot \\bar{x} \\right)^2 } \\quad = \\quad \n",
    "\\sqrt{\\frac{1}{n-1}\\sum_{k=1}^n b^2 \\cdot \\left( x_k - \\bar{x} \\right)^2 } \\quad = \\quad \n",
    "b\\cdot \\sqrt{\\frac{1}{n-1}\\sum_{k=1}^n  \\left( x_k - \\bar{x} \\right)^2 } \n",
    "$$\n",
    "\n",
    "Confirmed! "
   ]
  },
  {
   "cell_type": "markdown",
   "metadata": {},
   "source": [
    "### Exercise 5 \n",
    "***\n",
    "OK, let's apply a common transformation to the **TMAX** and **TMIN** columns by converting the temperatures from Fahrenheit to Celsius.  Remember that the transformation is given by \n",
    "\n",
    "$$\n",
    "\\textrm{CELSIUS} = \\frac{5}{9} (\\textrm{FAHRENHEIT}-32) \n",
    "$$\n",
    "\n",
    "First, use the Fahrenheit data in columns **TMAX** and **TMIN** to create Celsius columns in the Niwot DataFrame called **TMAX-C** and **TMIN-C**."
   ]
  },
  {
   "cell_type": "code",
   "execution_count": 11,
   "metadata": {
    "collapsed": false
   },
   "outputs": [],
   "source": [
    "dfNiwot.loc[:,\"TMAX-C\"] = (5/9)*(dfNiwot.loc[:,\"TMAX\"]-32)\n",
    "dfNiwot.loc[:,\"TMIN-C\"] = (5/9)*(dfNiwot.loc[:,\"TMIN\"]-32)"
   ]
  },
  {
   "cell_type": "code",
   "execution_count": 12,
   "metadata": {
    "collapsed": false
   },
   "outputs": [
    {
     "data": {
      "text/html": [
       "<div>\n",
       "<table border=\"1\" class=\"dataframe\">\n",
       "  <thead>\n",
       "    <tr style=\"text-align: right;\">\n",
       "      <th></th>\n",
       "      <th>STATION</th>\n",
       "      <th>NAME</th>\n",
       "      <th>DATE</th>\n",
       "      <th>PRCP</th>\n",
       "      <th>TMAX</th>\n",
       "      <th>TMIN</th>\n",
       "      <th>TMAX-C</th>\n",
       "      <th>TMIN-C</th>\n",
       "    </tr>\n",
       "  </thead>\n",
       "  <tbody>\n",
       "    <tr>\n",
       "      <th>93</th>\n",
       "      <td>USS0005J42S</td>\n",
       "      <td>NIWOT, CO US</td>\n",
       "      <td>2017-07-01</td>\n",
       "      <td>0.0</td>\n",
       "      <td>69.0</td>\n",
       "      <td>32.0</td>\n",
       "      <td>20.555556</td>\n",
       "      <td>0.000000</td>\n",
       "    </tr>\n",
       "    <tr>\n",
       "      <th>94</th>\n",
       "      <td>USS0005J42S</td>\n",
       "      <td>NIWOT, CO US</td>\n",
       "      <td>2017-07-02</td>\n",
       "      <td>0.0</td>\n",
       "      <td>73.0</td>\n",
       "      <td>37.0</td>\n",
       "      <td>22.777778</td>\n",
       "      <td>2.777778</td>\n",
       "    </tr>\n",
       "    <tr>\n",
       "      <th>95</th>\n",
       "      <td>USS0005J42S</td>\n",
       "      <td>NIWOT, CO US</td>\n",
       "      <td>2017-07-03</td>\n",
       "      <td>0.0</td>\n",
       "      <td>68.0</td>\n",
       "      <td>47.0</td>\n",
       "      <td>20.000000</td>\n",
       "      <td>8.333333</td>\n",
       "    </tr>\n",
       "    <tr>\n",
       "      <th>96</th>\n",
       "      <td>USS0005J42S</td>\n",
       "      <td>NIWOT, CO US</td>\n",
       "      <td>2017-07-04</td>\n",
       "      <td>0.1</td>\n",
       "      <td>70.0</td>\n",
       "      <td>41.0</td>\n",
       "      <td>21.111111</td>\n",
       "      <td>5.000000</td>\n",
       "    </tr>\n",
       "    <tr>\n",
       "      <th>97</th>\n",
       "      <td>USS0005J42S</td>\n",
       "      <td>NIWOT, CO US</td>\n",
       "      <td>2017-07-05</td>\n",
       "      <td>0.0</td>\n",
       "      <td>74.0</td>\n",
       "      <td>40.0</td>\n",
       "      <td>23.333333</td>\n",
       "      <td>4.444444</td>\n",
       "    </tr>\n",
       "  </tbody>\n",
       "</table>\n",
       "</div>"
      ],
      "text/plain": [
       "        STATION          NAME        DATE  PRCP  TMAX  TMIN     TMAX-C  \\\n",
       "93  USS0005J42S  NIWOT, CO US  2017-07-01   0.0  69.0  32.0  20.555556   \n",
       "94  USS0005J42S  NIWOT, CO US  2017-07-02   0.0  73.0  37.0  22.777778   \n",
       "95  USS0005J42S  NIWOT, CO US  2017-07-03   0.0  68.0  47.0  20.000000   \n",
       "96  USS0005J42S  NIWOT, CO US  2017-07-04   0.1  70.0  41.0  21.111111   \n",
       "97  USS0005J42S  NIWOT, CO US  2017-07-05   0.0  74.0  40.0  23.333333   \n",
       "\n",
       "      TMIN-C  \n",
       "93  0.000000  \n",
       "94  2.777778  \n",
       "95  8.333333  \n",
       "96  5.000000  \n",
       "97  4.444444  "
      ]
     },
     "execution_count": 12,
     "metadata": {},
     "output_type": "execute_result"
    }
   ],
   "source": [
    "dfNiwot.head()"
   ]
  },
  {
   "cell_type": "markdown",
   "metadata": {},
   "source": [
    "\n",
    "Based on the stuff we proved in **Exercise 4**, what do you expect the mean and the standard deviation of the daily maximum temperature to be in Celsius? "
   ]
  },
  {
   "cell_type": "markdown",
   "metadata": {},
   "source": [
    "**Solution**: \n",
    "\n",
    "Let $\\bar{x}^{min}$ and $\\bar{x}^{max}$ represent the mean of **TMAX** and **TMIN** in Fahrenheit, respectively, then we expect the means of the associated values in Celsius to be \n",
    "\n",
    "$$\n",
    "\\bar{y}^{min} = \\frac{5}{9}\\left( \\bar{x}^{min} - 32 \\right) = \\frac{5}{9}\\left(43.548 -32 \\right) = 6.416\n",
    "\\quad \\textrm{and} \\quad \n",
    "\\bar{y}^{max} = \\frac{5}{9}\\left( \\bar{x}^{max} - 32 \\right) = \\frac{5}{9}\\left(69.839 -32 \\right) = 21.022\n",
    "$$"
   ]
  },
  {
   "cell_type": "markdown",
   "metadata": {},
   "source": [
    "Once you've made your guess, see if you're right by applying the .mean( ) method to **TMAX-C** and **TMIN-C**. "
   ]
  },
  {
   "cell_type": "code",
   "execution_count": 13,
   "metadata": {
    "collapsed": false
   },
   "outputs": [
    {
     "name": "stdout",
     "output_type": "stream",
     "text": [
      "Mean Min Temp in Celsius = 6.416\n",
      "Mean Max Temp in Celsius = 21.022\n"
     ]
    }
   ],
   "source": [
    "ybar_min = dfNiwot[\"TMIN-C\"].mean()\n",
    "ybar_max = dfNiwot[\"TMAX-C\"].mean()\n",
    "print(\"Mean Min Temp in Celsius = {:.3f}\".format(ybar_min))\n",
    "print(\"Mean Max Temp in Celsius = {:.3f}\".format(ybar_max))"
   ]
  },
  {
   "cell_type": "markdown",
   "metadata": {},
   "source": [
    "### Exercise 6 \n",
    "***\n",
    "\n",
    "Compute the daily temperature range (max minus min) in Fahrenheit for each row in the Niwot DataFrame and store it in a column called **TDIFF**.  Then answer these questions.  \n",
    "\n",
    "- What is the mean temperature difference over the month of July? \n",
    "- What is the difference between the means of the max and min daily temperatures? \n",
    "- Do you see a relationship between these two quantities?  If so, can you prove that it's always the case for mean difference and difference of means? "
   ]
  },
  {
   "cell_type": "code",
   "execution_count": 14,
   "metadata": {
    "collapsed": false
   },
   "outputs": [],
   "source": [
    "dfNiwot.loc[:,\"TDIFF\"] = dfNiwot.loc[:,\"TMAX\"] - dfNiwot.loc[:,\"TMIN\"]"
   ]
  },
  {
   "cell_type": "code",
   "execution_count": 15,
   "metadata": {
    "collapsed": false
   },
   "outputs": [
    {
     "data": {
      "text/html": [
       "<div>\n",
       "<table border=\"1\" class=\"dataframe\">\n",
       "  <thead>\n",
       "    <tr style=\"text-align: right;\">\n",
       "      <th></th>\n",
       "      <th>STATION</th>\n",
       "      <th>NAME</th>\n",
       "      <th>DATE</th>\n",
       "      <th>PRCP</th>\n",
       "      <th>TMAX</th>\n",
       "      <th>TMIN</th>\n",
       "      <th>TMAX-C</th>\n",
       "      <th>TMIN-C</th>\n",
       "      <th>TDIFF</th>\n",
       "    </tr>\n",
       "  </thead>\n",
       "  <tbody>\n",
       "    <tr>\n",
       "      <th>93</th>\n",
       "      <td>USS0005J42S</td>\n",
       "      <td>NIWOT, CO US</td>\n",
       "      <td>2017-07-01</td>\n",
       "      <td>0.0</td>\n",
       "      <td>69.0</td>\n",
       "      <td>32.0</td>\n",
       "      <td>20.555556</td>\n",
       "      <td>0.000000</td>\n",
       "      <td>37.0</td>\n",
       "    </tr>\n",
       "    <tr>\n",
       "      <th>94</th>\n",
       "      <td>USS0005J42S</td>\n",
       "      <td>NIWOT, CO US</td>\n",
       "      <td>2017-07-02</td>\n",
       "      <td>0.0</td>\n",
       "      <td>73.0</td>\n",
       "      <td>37.0</td>\n",
       "      <td>22.777778</td>\n",
       "      <td>2.777778</td>\n",
       "      <td>36.0</td>\n",
       "    </tr>\n",
       "    <tr>\n",
       "      <th>95</th>\n",
       "      <td>USS0005J42S</td>\n",
       "      <td>NIWOT, CO US</td>\n",
       "      <td>2017-07-03</td>\n",
       "      <td>0.0</td>\n",
       "      <td>68.0</td>\n",
       "      <td>47.0</td>\n",
       "      <td>20.000000</td>\n",
       "      <td>8.333333</td>\n",
       "      <td>21.0</td>\n",
       "    </tr>\n",
       "    <tr>\n",
       "      <th>96</th>\n",
       "      <td>USS0005J42S</td>\n",
       "      <td>NIWOT, CO US</td>\n",
       "      <td>2017-07-04</td>\n",
       "      <td>0.1</td>\n",
       "      <td>70.0</td>\n",
       "      <td>41.0</td>\n",
       "      <td>21.111111</td>\n",
       "      <td>5.000000</td>\n",
       "      <td>29.0</td>\n",
       "    </tr>\n",
       "    <tr>\n",
       "      <th>97</th>\n",
       "      <td>USS0005J42S</td>\n",
       "      <td>NIWOT, CO US</td>\n",
       "      <td>2017-07-05</td>\n",
       "      <td>0.0</td>\n",
       "      <td>74.0</td>\n",
       "      <td>40.0</td>\n",
       "      <td>23.333333</td>\n",
       "      <td>4.444444</td>\n",
       "      <td>34.0</td>\n",
       "    </tr>\n",
       "  </tbody>\n",
       "</table>\n",
       "</div>"
      ],
      "text/plain": [
       "        STATION          NAME        DATE  PRCP  TMAX  TMIN     TMAX-C  \\\n",
       "93  USS0005J42S  NIWOT, CO US  2017-07-01   0.0  69.0  32.0  20.555556   \n",
       "94  USS0005J42S  NIWOT, CO US  2017-07-02   0.0  73.0  37.0  22.777778   \n",
       "95  USS0005J42S  NIWOT, CO US  2017-07-03   0.0  68.0  47.0  20.000000   \n",
       "96  USS0005J42S  NIWOT, CO US  2017-07-04   0.1  70.0  41.0  21.111111   \n",
       "97  USS0005J42S  NIWOT, CO US  2017-07-05   0.0  74.0  40.0  23.333333   \n",
       "\n",
       "      TMIN-C  TDIFF  \n",
       "93  0.000000   37.0  \n",
       "94  2.777778   36.0  \n",
       "95  8.333333   21.0  \n",
       "96  5.000000   29.0  \n",
       "97  4.444444   34.0  "
      ]
     },
     "execution_count": 15,
     "metadata": {},
     "output_type": "execute_result"
    }
   ],
   "source": [
    "dfNiwot.head()"
   ]
  },
  {
   "cell_type": "markdown",
   "metadata": {},
   "source": [
    "To compute the mean temperature difference we just need to compute the mean of the **TDIFF** column we just created"
   ]
  },
  {
   "cell_type": "code",
   "execution_count": 16,
   "metadata": {
    "collapsed": false
   },
   "outputs": [
    {
     "name": "stdout",
     "output_type": "stream",
     "text": [
      "Mean Temp Diff = 26.290\n"
     ]
    }
   ],
   "source": [
    "mean_diff = dfNiwot[\"TDIFF\"].mean()\n",
    "print(\"Mean Temp Diff = {:.3f}\".format(mean_diff))"
   ]
  },
  {
   "cell_type": "markdown",
   "metadata": {},
   "source": [
    "We compute the difference of the max and min temperature means as follows "
   ]
  },
  {
   "cell_type": "code",
   "execution_count": 17,
   "metadata": {
    "collapsed": false
   },
   "outputs": [
    {
     "name": "stdout",
     "output_type": "stream",
     "text": [
      "Diff of Mean Temps = 26.290\n"
     ]
    }
   ],
   "source": [
    "diff_of_means = dfNiwot[\"TMAX\"].mean() - dfNiwot[\"TMIN\"].mean()\n",
    "print(\"Diff of Mean Temps = {:.3f}\".format(diff_of_means))"
   ]
  },
  {
   "cell_type": "markdown",
   "metadata": {},
   "source": [
    "It looks like they're the same! Can we show mathematically that this is true in general? \n",
    "\n",
    "**Solution**: \n",
    "\n",
    "Suppose we have $n$ observations of two variables $x_k$ and $y_k$ for $k=1,\\ldots,n$, and define $z_k = y_k - x_k$.  We want to show that the \n",
    "\n",
    "$$\n",
    "\\bar{z} = \\bar{y} - \\bar{x}.\n",
    "$$\n",
    "\n",
    "We'll do this using the definition of the sample mean.  We have \n",
    "\n",
    "\\begin{eqnarray}\n",
    "\\bar{z} &=& \\frac{1}{n}\\sum_{k=1}^n z_k  \\\\\n",
    "&=& \\frac{1}{n}\\sum_{k=1}^n (y_k - x_k)   \\\\\n",
    "&=& \\frac{1}{n}\\sum_{k=1}^n y_k - \\frac{1}{n}\\sum_{k=1}^n x_k  \\\\ \n",
    "&=& \\bar{y} - \\bar{x}\n",
    "\\end{eqnarray}\n",
    "\n",
    "**Note** that this little fact is only relevant when we have the same number of observations for $x$ and $y$. "
   ]
  },
  {
   "cell_type": "code",
   "execution_count": null,
   "metadata": {
    "collapsed": true
   },
   "outputs": [],
   "source": []
  }
 ],
 "metadata": {
  "kernelspec": {
   "display_name": "Python 3",
   "language": "python",
   "name": "python3"
  },
  "language_info": {
   "codemirror_mode": {
    "name": "ipython",
    "version": 3
   },
   "file_extension": ".py",
   "mimetype": "text/x-python",
   "name": "python",
   "nbconvert_exporter": "python",
   "pygments_lexer": "ipython3",
   "version": "3.5.2"
  }
 },
 "nbformat": 4,
 "nbformat_minor": 2
}
